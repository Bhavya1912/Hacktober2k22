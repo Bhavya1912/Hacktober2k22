{
 "cells": [
  {
   "cell_type": "code",
   "execution_count": 141,
   "id": "85a32497",
   "metadata": {},
   "outputs": [],
   "source": [
    "import pandas as pd\n",
    "from sklearn.linear_model import LinearRegression\n",
    "import numpy as np\n",
    "from sklearn.model_selection import train_test_split\n",
    "from sklearn.metrics import mean_squared_error"
   ]
  },
  {
   "cell_type": "code",
   "execution_count": 142,
   "id": "cbeeba49",
   "metadata": {},
   "outputs": [],
   "source": [
    "f = pd.read_csv('housing.csv')\n",
    "f = pd.concat([pd.Series(1, index=f.index, name='00'), f], axis=1)"
   ]
  },
  {
   "cell_type": "code",
   "execution_count": 143,
   "id": "d3ba0241",
   "metadata": {},
   "outputs": [
    {
     "data": {
      "text/plain": [
       "array([0., 0., 0., 0., 0., 0., 0., 0., 0.])"
      ]
     },
     "execution_count": 143,
     "metadata": {},
     "output_type": "execute_result"
    }
   ],
   "source": [
    "X = f.iloc[:100,:9]\n",
    "y = f.iloc[:100,9]\n",
    "y = [i/100 for i in y]\n",
    "theta = np.array([0.00]*len(x.columns))\n",
    "theta"
   ]
  },
  {
   "cell_type": "code",
   "execution_count": 144,
   "id": "15434178",
   "metadata": {},
   "outputs": [
    {
     "data": {
      "text/plain": [
       "-4.494695509375"
      ]
     },
     "execution_count": 144,
     "metadata": {},
     "output_type": "execute_result"
    }
   ],
   "source": [
    "\n",
    " (sum(X.iloc[:,1]*(y-X.dot(theta)))/len(x))*0.005\n"
   ]
  },
  {
   "cell_type": "code",
   "execution_count": 152,
   "id": "2735806a",
   "metadata": {},
   "outputs": [
    {
     "data": {
      "text/plain": [
       "array([  4.59524062,   4.58162949,   6.24095456,   5.54171469,\n",
       "         4.81914513, -17.01541354,   2.13782966,  -2.92835363,\n",
       "         0.10119788])"
      ]
     },
     "execution_count": 152,
     "metadata": {},
     "output_type": "execute_result"
    }
   ],
   "source": [
    "    alpha = 0.005\n",
    "    k = 0\n",
    "    i = 1000\n",
    "    while k < i:        \n",
    "        y1 = X.dot(theta)\n",
    "        for c in range(0, len(X.columns)):\n",
    "            theta[c] = theta[c] - (sum(X.iloc[:,1]*(y-X.dot(theta)))/len(x))*alpha\n",
    "        k += 1\n",
    "    theta"
   ]
  },
  {
   "cell_type": "code",
   "execution_count": 154,
   "id": "c268aed3",
   "metadata": {},
   "outputs": [
    {
     "data": {
      "text/plain": [
       "array([1020.64826229, 1428.34021643, 2157.39259601, 1223.60910354,\n",
       "       4890.54481362, 2766.80174009, 1299.80293697, 1414.77176965,\n",
       "       1453.69249063, 2636.21052749, 1697.39252725, 1777.44065746,\n",
       "       1392.17519842, 1330.95558449, 1850.59410827, 1176.8018851 ,\n",
       "       1406.88727869, 1148.82550866, 1559.47062897, 2048.40549419])"
      ]
     },
     "execution_count": 154,
     "metadata": {},
     "output_type": "execute_result"
    }
   ],
   "source": [
    "X_train, X_test, y_train, y_test = train_test_split(X, y, test_size = 0.2)\n",
    "lr = LinearRegression()\n",
    "lr.fit(X_train,y_train)\n",
    "y_pred = lr.predict(X_test)\n",
    "y_pred"
   ]
  },
  {
   "cell_type": "code",
   "execution_count": 155,
   "id": "895c98ab",
   "metadata": {},
   "outputs": [
    {
     "data": {
      "text/plain": [
       "array([-3.54351738e+02,  4.56340216e+02,  2.69392596e+02, -4.01390896e+02,\n",
       "        1.30554481e+03, -6.46198260e+02, -4.19197063e+02,  3.65771770e+02,\n",
       "       -3.54631751e+03,  2.52105275e+01,  6.00392527e+02,  3.77440657e+02,\n",
       "       -2.32824802e+02,  2.88955584e+02,  2.96594108e+02,  9.38018851e+01,\n",
       "        2.81887279e+02, -3.17449134e+00,  5.62470629e+02, -7.66594506e+02])"
      ]
     },
     "execution_count": 155,
     "metadata": {},
     "output_type": "execute_result"
    }
   ],
   "source": [
    "y_check = y_pred - y_test\n",
    "y_check"
   ]
  },
  {
   "cell_type": "code",
   "execution_count": 156,
   "id": "d664fdf1",
   "metadata": {},
   "outputs": [
    {
     "name": "stdout",
     "output_type": "stream",
     "text": [
      "91     1199.196674\n",
      "35     1454.581394\n",
      "43     1528.800059\n",
      "80     -234.235317\n",
      "1     16990.653638\n",
      "3      2662.019625\n",
      "50    -3304.440782\n",
      "33     2348.716944\n",
      "89      439.037849\n",
      "9      6267.369487\n",
      "34     4159.365046\n",
      "15     1257.028565\n",
      "87    -1767.849668\n",
      "53     1377.722325\n",
      "40     1729.027541\n",
      "77     2402.897771\n",
      "81      255.049471\n",
      "31     3365.665628\n",
      "23     3241.323356\n",
      "10     3964.453603\n",
      "dtype: float64 [1375.0, 972.0, 1888.0, 1625.0, 3585.0, 3413.0, 1719.0, 1049.0, 5000.01, 2611.0, 1097.0, 1400.0, 1625.0, 1042.0, 1554.0, 1083.0, 1125.0, 1152.0, 997.0, 2815.0]\n"
     ]
    }
   ],
   "source": [
    "y_predict = X_test.dot(theta)\n",
    "print(y_predict,y_test)"
   ]
  },
  {
   "cell_type": "code",
   "execution_count": null,
   "id": "122b8ef0",
   "metadata": {},
   "outputs": [],
   "source": []
  }
 ],
 "metadata": {
  "kernelspec": {
   "display_name": "Python 3",
   "language": "python",
   "name": "python3"
  },
  "language_info": {
   "codemirror_mode": {
    "name": "ipython",
    "version": 3
   },
   "file_extension": ".py",
   "mimetype": "text/x-python",
   "name": "python",
   "nbconvert_exporter": "python",
   "pygments_lexer": "ipython3",
   "version": "3.8.8"
  }
 },
 "nbformat": 4,
 "nbformat_minor": 5
}
