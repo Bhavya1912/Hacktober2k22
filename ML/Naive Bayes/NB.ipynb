{
 "cells": [
  {
   "cell_type": "code",
   "execution_count": 1,
   "metadata": {},
   "outputs": [],
   "source": [
    "import numpy as np\n",
    "import pandas as pd\n",
    "import sklearn"
   ]
  },
  {
   "cell_type": "code",
   "execution_count": 2,
   "metadata": {},
   "outputs": [],
   "source": [
    "docs=['Music is a pleasant sound which is a combination of melodies and harmony and which soothes you.',\n",
    "      'The music is not in the notes, but in the silence between.',\n",
    "      'Cricket is a game of class, character and commitment.',\n",
    "      'A person who knows music is a Musician.',\n",
    "      'A cricket match consists of two competing teams with their playing eleven.',\n",
    "      'Youngsters can be seen with their bats and balls playing cricket in every nook and corner of the country.',\n",
    "      'Music may also refer to the art of composing such pleasant sounds with the help of the various musical instruments.']\n",
    "label = ['music','music','cricket','music','cricket','cricket','music']"
   ]
  },
  {
   "cell_type": "code",
   "execution_count": 3,
   "metadata": {},
   "outputs": [],
   "source": [
    "dframe = pd.DataFrame(list(zip(docs,label)),columns=['docs','label'])"
   ]
  },
  {
   "cell_type": "code",
   "execution_count": 4,
   "metadata": {},
   "outputs": [
    {
     "data": {
      "text/html": [
       "<div>\n",
       "<style scoped>\n",
       "    .dataframe tbody tr th:only-of-type {\n",
       "        vertical-align: middle;\n",
       "    }\n",
       "\n",
       "    .dataframe tbody tr th {\n",
       "        vertical-align: top;\n",
       "    }\n",
       "\n",
       "    .dataframe thead th {\n",
       "        text-align: right;\n",
       "    }\n",
       "</style>\n",
       "<table border=\"1\" class=\"dataframe\">\n",
       "  <thead>\n",
       "    <tr style=\"text-align: right;\">\n",
       "      <th></th>\n",
       "      <th>docs</th>\n",
       "      <th>label</th>\n",
       "    </tr>\n",
       "  </thead>\n",
       "  <tbody>\n",
       "    <tr>\n",
       "      <th>0</th>\n",
       "      <td>Music is a pleasant sound which is a combinati...</td>\n",
       "      <td>music</td>\n",
       "    </tr>\n",
       "    <tr>\n",
       "      <th>1</th>\n",
       "      <td>The music is not in the notes, but in the sile...</td>\n",
       "      <td>music</td>\n",
       "    </tr>\n",
       "    <tr>\n",
       "      <th>2</th>\n",
       "      <td>Cricket is a game of class, character and comm...</td>\n",
       "      <td>cricket</td>\n",
       "    </tr>\n",
       "    <tr>\n",
       "      <th>3</th>\n",
       "      <td>A person who knows music is a Musician.</td>\n",
       "      <td>music</td>\n",
       "    </tr>\n",
       "    <tr>\n",
       "      <th>4</th>\n",
       "      <td>A cricket match consists of two competing team...</td>\n",
       "      <td>cricket</td>\n",
       "    </tr>\n",
       "    <tr>\n",
       "      <th>5</th>\n",
       "      <td>Youngsters can be seen with their bats and bal...</td>\n",
       "      <td>cricket</td>\n",
       "    </tr>\n",
       "    <tr>\n",
       "      <th>6</th>\n",
       "      <td>Music may also refer to the art of composing s...</td>\n",
       "      <td>music</td>\n",
       "    </tr>\n",
       "  </tbody>\n",
       "</table>\n",
       "</div>"
      ],
      "text/plain": [
       "                                                docs    label\n",
       "0  Music is a pleasant sound which is a combinati...    music\n",
       "1  The music is not in the notes, but in the sile...    music\n",
       "2  Cricket is a game of class, character and comm...  cricket\n",
       "3            A person who knows music is a Musician.    music\n",
       "4  A cricket match consists of two competing team...  cricket\n",
       "5  Youngsters can be seen with their bats and bal...  cricket\n",
       "6  Music may also refer to the art of composing s...    music"
      ]
     },
     "execution_count": 4,
     "metadata": {},
     "output_type": "execute_result"
    }
   ],
   "source": [
    "dframe"
   ]
  },
  {
   "cell_type": "code",
   "execution_count": 5,
   "metadata": {},
   "outputs": [],
   "source": [
    "train,test=dframe.iloc[:5,:],dframe.iloc[5:,:]"
   ]
  },
  {
   "cell_type": "code",
   "execution_count": 6,
   "metadata": {},
   "outputs": [
    {
     "data": {
      "text/html": [
       "<div>\n",
       "<style scoped>\n",
       "    .dataframe tbody tr th:only-of-type {\n",
       "        vertical-align: middle;\n",
       "    }\n",
       "\n",
       "    .dataframe tbody tr th {\n",
       "        vertical-align: top;\n",
       "    }\n",
       "\n",
       "    .dataframe thead th {\n",
       "        text-align: right;\n",
       "    }\n",
       "</style>\n",
       "<table border=\"1\" class=\"dataframe\">\n",
       "  <thead>\n",
       "    <tr style=\"text-align: right;\">\n",
       "      <th></th>\n",
       "      <th>docs</th>\n",
       "      <th>label</th>\n",
       "    </tr>\n",
       "  </thead>\n",
       "  <tbody>\n",
       "    <tr>\n",
       "      <th>5</th>\n",
       "      <td>Youngsters can be seen with their bats and bal...</td>\n",
       "      <td>cricket</td>\n",
       "    </tr>\n",
       "    <tr>\n",
       "      <th>6</th>\n",
       "      <td>Music may also refer to the art of composing s...</td>\n",
       "      <td>music</td>\n",
       "    </tr>\n",
       "  </tbody>\n",
       "</table>\n",
       "</div>"
      ],
      "text/plain": [
       "                                                docs    label\n",
       "5  Youngsters can be seen with their bats and bal...  cricket\n",
       "6  Music may also refer to the art of composing s...    music"
      ]
     },
     "execution_count": 6,
     "metadata": {},
     "output_type": "execute_result"
    }
   ],
   "source": [
    "test"
   ]
  },
  {
   "cell_type": "code",
   "execution_count": 7,
   "metadata": {},
   "outputs": [
    {
     "data": {
      "text/html": [
       "<div>\n",
       "<style scoped>\n",
       "    .dataframe tbody tr th:only-of-type {\n",
       "        vertical-align: middle;\n",
       "    }\n",
       "\n",
       "    .dataframe tbody tr th {\n",
       "        vertical-align: top;\n",
       "    }\n",
       "\n",
       "    .dataframe thead th {\n",
       "        text-align: right;\n",
       "    }\n",
       "</style>\n",
       "<table border=\"1\" class=\"dataframe\">\n",
       "  <thead>\n",
       "    <tr style=\"text-align: right;\">\n",
       "      <th></th>\n",
       "      <th>docs</th>\n",
       "      <th>label</th>\n",
       "    </tr>\n",
       "  </thead>\n",
       "  <tbody>\n",
       "    <tr>\n",
       "      <th>0</th>\n",
       "      <td>Music is a pleasant sound which is a combinati...</td>\n",
       "      <td>music</td>\n",
       "    </tr>\n",
       "    <tr>\n",
       "      <th>1</th>\n",
       "      <td>The music is not in the notes, but in the sile...</td>\n",
       "      <td>music</td>\n",
       "    </tr>\n",
       "    <tr>\n",
       "      <th>2</th>\n",
       "      <td>Cricket is a game of class, character and comm...</td>\n",
       "      <td>cricket</td>\n",
       "    </tr>\n",
       "    <tr>\n",
       "      <th>3</th>\n",
       "      <td>A person who knows music is a Musician.</td>\n",
       "      <td>music</td>\n",
       "    </tr>\n",
       "    <tr>\n",
       "      <th>4</th>\n",
       "      <td>A cricket match consists of two competing team...</td>\n",
       "      <td>cricket</td>\n",
       "    </tr>\n",
       "  </tbody>\n",
       "</table>\n",
       "</div>"
      ],
      "text/plain": [
       "                                                docs    label\n",
       "0  Music is a pleasant sound which is a combinati...    music\n",
       "1  The music is not in the notes, but in the sile...    music\n",
       "2  Cricket is a game of class, character and comm...  cricket\n",
       "3            A person who knows music is a Musician.    music\n",
       "4  A cricket match consists of two competing team...  cricket"
      ]
     },
     "execution_count": 7,
     "metadata": {},
     "output_type": "execute_result"
    }
   ],
   "source": [
    "train"
   ]
  },
  {
   "cell_type": "code",
   "execution_count": 8,
   "metadata": {},
   "outputs": [
    {
     "name": "stderr",
     "output_type": "stream",
     "text": [
      "C:\\Users\\vaibhav goel\\AppData\\Local\\Temp\\ipykernel_10220\\53122504.py:1: SettingWithCopyWarning: \n",
      "A value is trying to be set on a copy of a slice from a DataFrame.\n",
      "Try using .loc[row_indexer,col_indexer] = value instead\n",
      "\n",
      "See the caveats in the documentation: https://pandas.pydata.org/pandas-docs/stable/user_guide/indexing.html#returning-a-view-versus-a-copy\n",
      "  train['tag']=train['label'].map({'music':0,'cricket':1})\n"
     ]
    },
    {
     "data": {
      "text/html": [
       "<div>\n",
       "<style scoped>\n",
       "    .dataframe tbody tr th:only-of-type {\n",
       "        vertical-align: middle;\n",
       "    }\n",
       "\n",
       "    .dataframe tbody tr th {\n",
       "        vertical-align: top;\n",
       "    }\n",
       "\n",
       "    .dataframe thead th {\n",
       "        text-align: right;\n",
       "    }\n",
       "</style>\n",
       "<table border=\"1\" class=\"dataframe\">\n",
       "  <thead>\n",
       "    <tr style=\"text-align: right;\">\n",
       "      <th></th>\n",
       "      <th>docs</th>\n",
       "      <th>label</th>\n",
       "      <th>tag</th>\n",
       "    </tr>\n",
       "  </thead>\n",
       "  <tbody>\n",
       "    <tr>\n",
       "      <th>0</th>\n",
       "      <td>Music is a pleasant sound which is a combinati...</td>\n",
       "      <td>music</td>\n",
       "      <td>0</td>\n",
       "    </tr>\n",
       "    <tr>\n",
       "      <th>1</th>\n",
       "      <td>The music is not in the notes, but in the sile...</td>\n",
       "      <td>music</td>\n",
       "      <td>0</td>\n",
       "    </tr>\n",
       "    <tr>\n",
       "      <th>2</th>\n",
       "      <td>Cricket is a game of class, character and comm...</td>\n",
       "      <td>cricket</td>\n",
       "      <td>1</td>\n",
       "    </tr>\n",
       "    <tr>\n",
       "      <th>3</th>\n",
       "      <td>A person who knows music is a Musician.</td>\n",
       "      <td>music</td>\n",
       "      <td>0</td>\n",
       "    </tr>\n",
       "    <tr>\n",
       "      <th>4</th>\n",
       "      <td>A cricket match consists of two competing team...</td>\n",
       "      <td>cricket</td>\n",
       "      <td>1</td>\n",
       "    </tr>\n",
       "  </tbody>\n",
       "</table>\n",
       "</div>"
      ],
      "text/plain": [
       "                                                docs    label  tag\n",
       "0  Music is a pleasant sound which is a combinati...    music    0\n",
       "1  The music is not in the notes, but in the sile...    music    0\n",
       "2  Cricket is a game of class, character and comm...  cricket    1\n",
       "3            A person who knows music is a Musician.    music    0\n",
       "4  A cricket match consists of two competing team...  cricket    1"
      ]
     },
     "execution_count": 8,
     "metadata": {},
     "output_type": "execute_result"
    }
   ],
   "source": [
    "train['tag']=train['label'].map({'music':0,'cricket':1})\n",
    "train"
   ]
  },
  {
   "cell_type": "code",
   "execution_count": 9,
   "metadata": {},
   "outputs": [
    {
     "data": {
      "text/html": [
       "<div>\n",
       "<style scoped>\n",
       "    .dataframe tbody tr th:only-of-type {\n",
       "        vertical-align: middle;\n",
       "    }\n",
       "\n",
       "    .dataframe tbody tr th {\n",
       "        vertical-align: top;\n",
       "    }\n",
       "\n",
       "    .dataframe thead th {\n",
       "        text-align: right;\n",
       "    }\n",
       "</style>\n",
       "<table border=\"1\" class=\"dataframe\">\n",
       "  <thead>\n",
       "    <tr style=\"text-align: right;\">\n",
       "      <th></th>\n",
       "      <th>docs</th>\n",
       "      <th>label</th>\n",
       "    </tr>\n",
       "  </thead>\n",
       "  <tbody>\n",
       "    <tr>\n",
       "      <th>5</th>\n",
       "      <td>Youngsters can be seen with their bats and bal...</td>\n",
       "      <td>cricket</td>\n",
       "    </tr>\n",
       "    <tr>\n",
       "      <th>6</th>\n",
       "      <td>Music may also refer to the art of composing s...</td>\n",
       "      <td>music</td>\n",
       "    </tr>\n",
       "  </tbody>\n",
       "</table>\n",
       "</div>"
      ],
      "text/plain": [
       "                                                docs    label\n",
       "5  Youngsters can be seen with their bats and bal...  cricket\n",
       "6  Music may also refer to the art of composing s...    music"
      ]
     },
     "execution_count": 9,
     "metadata": {},
     "output_type": "execute_result"
    }
   ],
   "source": [
    "test"
   ]
  },
  {
   "cell_type": "code",
   "execution_count": 10,
   "metadata": {},
   "outputs": [
    {
     "data": {
      "text/html": [
       "<div>\n",
       "<style scoped>\n",
       "    .dataframe tbody tr th:only-of-type {\n",
       "        vertical-align: middle;\n",
       "    }\n",
       "\n",
       "    .dataframe tbody tr th {\n",
       "        vertical-align: top;\n",
       "    }\n",
       "\n",
       "    .dataframe thead th {\n",
       "        text-align: right;\n",
       "    }\n",
       "</style>\n",
       "<table border=\"1\" class=\"dataframe\">\n",
       "  <thead>\n",
       "    <tr style=\"text-align: right;\">\n",
       "      <th></th>\n",
       "      <th>docs</th>\n",
       "      <th>tag</th>\n",
       "    </tr>\n",
       "  </thead>\n",
       "  <tbody>\n",
       "    <tr>\n",
       "      <th>0</th>\n",
       "      <td>Music is a pleasant sound which is a combinati...</td>\n",
       "      <td>0</td>\n",
       "    </tr>\n",
       "    <tr>\n",
       "      <th>1</th>\n",
       "      <td>The music is not in the notes, but in the sile...</td>\n",
       "      <td>0</td>\n",
       "    </tr>\n",
       "    <tr>\n",
       "      <th>2</th>\n",
       "      <td>Cricket is a game of class, character and comm...</td>\n",
       "      <td>1</td>\n",
       "    </tr>\n",
       "    <tr>\n",
       "      <th>3</th>\n",
       "      <td>A person who knows music is a Musician.</td>\n",
       "      <td>0</td>\n",
       "    </tr>\n",
       "    <tr>\n",
       "      <th>4</th>\n",
       "      <td>A cricket match consists of two competing team...</td>\n",
       "      <td>1</td>\n",
       "    </tr>\n",
       "  </tbody>\n",
       "</table>\n",
       "</div>"
      ],
      "text/plain": [
       "                                                docs  tag\n",
       "0  Music is a pleasant sound which is a combinati...    0\n",
       "1  The music is not in the notes, but in the sile...    0\n",
       "2  Cricket is a game of class, character and comm...    1\n",
       "3            A person who knows music is a Musician.    0\n",
       "4  A cricket match consists of two competing team...    1"
      ]
     },
     "execution_count": 10,
     "metadata": {},
     "output_type": "execute_result"
    }
   ],
   "source": [
    "train=train.drop('label',axis=1)\n",
    "train"
   ]
  },
  {
   "cell_type": "code",
   "execution_count": 11,
   "metadata": {},
   "outputs": [
    {
     "data": {
      "text/plain": [
       "{'music': 18,\n",
       " 'is': 14,\n",
       " 'pleasant': 25,\n",
       " 'sound': 28,\n",
       " 'which': 33,\n",
       " 'combination': 5,\n",
       " 'of': 22,\n",
       " 'melodies': 17,\n",
       " 'and': 0,\n",
       " 'harmony': 12,\n",
       " 'soothes': 27,\n",
       " 'you': 36,\n",
       " 'the': 30,\n",
       " 'not': 20,\n",
       " 'in': 13,\n",
       " 'notes': 21,\n",
       " 'but': 2,\n",
       " 'silence': 26,\n",
       " 'between': 1,\n",
       " 'cricket': 9,\n",
       " 'game': 11,\n",
       " 'class': 4,\n",
       " 'character': 3,\n",
       " 'commitment': 6,\n",
       " 'person': 23,\n",
       " 'who': 34,\n",
       " 'knows': 15,\n",
       " 'musician': 19,\n",
       " 'match': 16,\n",
       " 'consists': 8,\n",
       " 'two': 32,\n",
       " 'competing': 7,\n",
       " 'teams': 29,\n",
       " 'with': 35,\n",
       " 'their': 31,\n",
       " 'playing': 24,\n",
       " 'eleven': 10}"
      ]
     },
     "execution_count": 11,
     "metadata": {},
     "output_type": "execute_result"
    }
   ],
   "source": [
    "from sklearn.feature_extraction.text import CountVectorizer\n",
    "vec =CountVectorizer()\n",
    "vec.fit(train['docs'])\n",
    "vec.vocabulary_"
   ]
  },
  {
   "cell_type": "code",
   "execution_count": 12,
   "metadata": {},
   "outputs": [
    {
     "name": "stdout",
     "output_type": "stream",
     "text": [
      "Dictionary :  ['and', 'between', 'but', 'character', 'class', 'combination', 'commitment', 'competing', 'consists', 'cricket', 'eleven', 'game', 'harmony', 'in', 'is', 'knows', 'match', 'melodies', 'music', 'musician', 'not', 'notes', 'of', 'person', 'playing', 'pleasant', 'silence', 'soothes', 'sound', 'teams', 'the', 'their', 'two', 'which', 'who', 'with', 'you']\n",
      "Length of Dictionary :  37\n"
     ]
    },
    {
     "name": "stderr",
     "output_type": "stream",
     "text": [
      "C:\\Users\\vaibhav goel\\AppData\\Local\\Programs\\Python\\Python39\\lib\\site-packages\\sklearn\\utils\\deprecation.py:87: FutureWarning: Function get_feature_names is deprecated; get_feature_names is deprecated in 1.0 and will be removed in 1.2. Please use get_feature_names_out instead.\n",
      "  warnings.warn(msg, category=FutureWarning)\n"
     ]
    }
   ],
   "source": [
    "print(\"Dictionary : \",vec.get_feature_names())\n",
    "print(\"Length of Dictionary : \",len(vec.get_feature_names()))"
   ]
  },
  {
   "cell_type": "code",
   "execution_count": 13,
   "metadata": {},
   "outputs": [
    {
     "name": "stdout",
     "output_type": "stream",
     "text": [
      "Updated Dictionary :  ['character', 'class', 'combination', 'commitment', 'competing', 'consists', 'cricket', 'game', 'harmony', 'knows', 'match', 'melodies', 'music', 'musician', 'notes', 'person', 'playing', 'pleasant', 'silence', 'soothes', 'sound', 'teams']\n",
      "Updated length of dictionary :  22\n"
     ]
    },
    {
     "data": {
      "text/plain": [
       "{'music': 12,\n",
       " 'pleasant': 17,\n",
       " 'sound': 20,\n",
       " 'combination': 2,\n",
       " 'melodies': 11,\n",
       " 'harmony': 8,\n",
       " 'soothes': 19,\n",
       " 'notes': 14,\n",
       " 'silence': 18,\n",
       " 'cricket': 6,\n",
       " 'game': 7,\n",
       " 'class': 1,\n",
       " 'character': 0,\n",
       " 'commitment': 3,\n",
       " 'person': 15,\n",
       " 'knows': 9,\n",
       " 'musician': 13,\n",
       " 'match': 10,\n",
       " 'consists': 5,\n",
       " 'competing': 4,\n",
       " 'teams': 21,\n",
       " 'playing': 16}"
      ]
     },
     "execution_count": 13,
     "metadata": {},
     "output_type": "execute_result"
    }
   ],
   "source": [
    "vec2=CountVectorizer(stop_words='english')\n",
    "vec2.fit(train['docs'])\n",
    "print(\"Updated Dictionary : \",vec2.get_feature_names())\n",
    "print(\"Updated length of dictionary : \",len(vec2.get_feature_names()))\n",
    "vec2.vocabulary_"
   ]
  },
  {
   "cell_type": "code",
   "execution_count": 14,
   "metadata": {},
   "outputs": [
    {
     "data": {
      "text/plain": [
       "<5x22 sparse matrix of type '<class 'numpy.int64'>'\n",
       "\twith 25 stored elements in Compressed Sparse Row format>"
      ]
     },
     "execution_count": 14,
     "metadata": {},
     "output_type": "execute_result"
    }
   ],
   "source": [
    "x_vectors=vec2.transform(train['docs'])\n",
    "x_vectors"
   ]
  },
  {
   "cell_type": "code",
   "execution_count": 15,
   "metadata": {},
   "outputs": [
    {
     "name": "stdout",
     "output_type": "stream",
     "text": [
      "['character', 'class', 'combination', 'commitment', 'competing', 'consists', 'cricket', 'game', 'harmony', 'knows', 'match', 'melodies', 'music', 'musician', 'notes', 'person', 'playing', 'pleasant', 'silence', 'soothes', 'sound', 'teams']\n"
     ]
    },
    {
     "data": {
      "text/plain": [
       "array([[0, 0, 1, 0, 0, 0, 0, 0, 1, 0, 0, 1, 1, 0, 0, 0, 0, 1, 0, 1, 1, 0],\n",
       "       [0, 0, 0, 0, 0, 0, 0, 0, 0, 0, 0, 0, 1, 0, 1, 0, 0, 0, 1, 0, 0, 0],\n",
       "       [1, 1, 0, 1, 0, 0, 1, 1, 0, 0, 0, 0, 0, 0, 0, 0, 0, 0, 0, 0, 0, 0],\n",
       "       [0, 0, 0, 0, 0, 0, 0, 0, 0, 1, 0, 0, 1, 1, 0, 1, 0, 0, 0, 0, 0, 0],\n",
       "       [0, 0, 0, 0, 1, 1, 1, 0, 0, 0, 1, 0, 0, 0, 0, 0, 1, 0, 0, 0, 0, 1]],\n",
       "      dtype=int64)"
      ]
     },
     "execution_count": 15,
     "metadata": {},
     "output_type": "execute_result"
    }
   ],
   "source": [
    "print(vec2.get_feature_names())\n",
    "x_vectors.toarray()"
   ]
  },
  {
   "cell_type": "code",
   "execution_count": 16,
   "metadata": {},
   "outputs": [
    {
     "name": "stdout",
     "output_type": "stream",
     "text": [
      "  (0, 2)\t1\n",
      "  (0, 8)\t1\n",
      "  (0, 11)\t1\n",
      "  (0, 12)\t1\n",
      "  (0, 17)\t1\n",
      "  (0, 19)\t1\n",
      "  (0, 20)\t1\n",
      "  (1, 12)\t1\n",
      "  (1, 14)\t1\n",
      "  (1, 18)\t1\n",
      "  (2, 0)\t1\n",
      "  (2, 1)\t1\n",
      "  (2, 3)\t1\n",
      "  (2, 6)\t1\n",
      "  (2, 7)\t1\n",
      "  (3, 9)\t1\n",
      "  (3, 12)\t1\n",
      "  (3, 13)\t1\n",
      "  (3, 15)\t1\n",
      "  (4, 4)\t1\n",
      "  (4, 5)\t1\n",
      "  (4, 6)\t1\n",
      "  (4, 10)\t1\n",
      "  (4, 16)\t1\n",
      "  (4, 21)\t1\n"
     ]
    }
   ],
   "source": [
    "print(x_vectors)"
   ]
  },
  {
   "cell_type": "code",
   "execution_count": 17,
   "metadata": {},
   "outputs": [
    {
     "data": {
      "text/html": [
       "<div>\n",
       "<style scoped>\n",
       "    .dataframe tbody tr th:only-of-type {\n",
       "        vertical-align: middle;\n",
       "    }\n",
       "\n",
       "    .dataframe tbody tr th {\n",
       "        vertical-align: top;\n",
       "    }\n",
       "\n",
       "    .dataframe thead th {\n",
       "        text-align: right;\n",
       "    }\n",
       "</style>\n",
       "<table border=\"1\" class=\"dataframe\">\n",
       "  <thead>\n",
       "    <tr style=\"text-align: right;\">\n",
       "      <th></th>\n",
       "      <th>docs</th>\n",
       "      <th>label</th>\n",
       "    </tr>\n",
       "  </thead>\n",
       "  <tbody>\n",
       "    <tr>\n",
       "      <th>5</th>\n",
       "      <td>Youngsters can be seen with their bats and bal...</td>\n",
       "      <td>cricket</td>\n",
       "    </tr>\n",
       "    <tr>\n",
       "      <th>6</th>\n",
       "      <td>Music may also refer to the art of composing s...</td>\n",
       "      <td>music</td>\n",
       "    </tr>\n",
       "  </tbody>\n",
       "</table>\n",
       "</div>"
      ],
      "text/plain": [
       "                                                docs    label\n",
       "5  Youngsters can be seen with their bats and bal...  cricket\n",
       "6  Music may also refer to the art of composing s...    music"
      ]
     },
     "execution_count": 17,
     "metadata": {},
     "output_type": "execute_result"
    }
   ],
   "source": [
    "test"
   ]
  },
  {
   "cell_type": "code",
   "execution_count": 18,
   "metadata": {},
   "outputs": [
    {
     "name": "stdout",
     "output_type": "stream",
     "text": [
      "[[0 0 0 0 0 0 1 0 0 0 0 0 0 0 0 0 1 0 0 0 0 0]\n",
      " [0 0 0 0 0 0 0 0 0 0 0 0 1 0 0 0 0 1 0 0 0 0]]\n"
     ]
    },
    {
     "name": "stderr",
     "output_type": "stream",
     "text": [
      "C:\\Users\\vaibhav goel\\AppData\\Local\\Temp\\ipykernel_10220\\3759584639.py:1: SettingWithCopyWarning: \n",
      "A value is trying to be set on a copy of a slice from a DataFrame.\n",
      "Try using .loc[row_indexer,col_indexer] = value instead\n",
      "\n",
      "See the caveats in the documentation: https://pandas.pydata.org/pandas-docs/stable/user_guide/indexing.html#returning-a-view-versus-a-copy\n",
      "  test['tag']=test['label'].map({'music':0,'cricket':1})\n"
     ]
    }
   ],
   "source": [
    "test['tag']=test['label'].map({'music':0,'cricket':1})\n",
    "test.drop('label',axis=1)\n",
    "test_vectors = vec2.transform(test['docs'])\n",
    "print(test_vectors.toarray())"
   ]
  },
  {
   "cell_type": "code",
   "execution_count": 19,
   "metadata": {},
   "outputs": [
    {
     "data": {
      "text/plain": [
       "MultinomialNB()"
      ]
     },
     "execution_count": 19,
     "metadata": {},
     "output_type": "execute_result"
    }
   ],
   "source": [
    "from sklearn.naive_bayes import MultinomialNB\n",
    "\n",
    "mnb = MultinomialNB()\n",
    "\n",
    "mnb.fit(x_vectors, train['tag'] )"
   ]
  },
  {
   "cell_type": "code",
   "execution_count": 20,
   "metadata": {},
   "outputs": [
    {
     "data": {
      "text/plain": [
       "array([[0.17360115, 0.82639885],\n",
       "       [0.90977444, 0.09022556]])"
      ]
     },
     "execution_count": 20,
     "metadata": {},
     "output_type": "execute_result"
    }
   ],
   "source": [
    "mnb.predict_proba(test_vectors)"
   ]
  },
  {
   "cell_type": "code",
   "execution_count": 21,
   "metadata": {},
   "outputs": [
    {
     "data": {
      "text/plain": [
       "array([1, 0], dtype=int64)"
      ]
     },
     "execution_count": 21,
     "metadata": {},
     "output_type": "execute_result"
    }
   ],
   "source": [
    "prediction = mnb.predict(test_vectors)\n",
    "prediction"
   ]
  }
 ],
 "metadata": {
  "interpreter": {
   "hash": "73352211023270ca82e54b329ec8b8b450ef09f307b1722d9e7d980741da6660"
  },
  "kernelspec": {
   "display_name": "Python 3.9.2 64-bit",
   "language": "python",
   "name": "python3"
  },
  "language_info": {
   "codemirror_mode": {
    "name": "ipython",
    "version": 3
   },
   "file_extension": ".py",
   "mimetype": "text/x-python",
   "name": "python",
   "nbconvert_exporter": "python",
   "pygments_lexer": "ipython3",
   "version": "3.9.2"
  },
  "orig_nbformat": 4
 },
 "nbformat": 4,
 "nbformat_minor": 2
}
